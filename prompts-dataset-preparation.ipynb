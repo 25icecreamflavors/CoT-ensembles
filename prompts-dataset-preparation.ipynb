{
 "cells": [
  {
   "cell_type": "code",
   "execution_count": 1,
   "id": "11da2cdf",
   "metadata": {
    "_cell_guid": "b1076dfc-b9ad-4769-8c92-a6c4dae69d19",
    "_uuid": "8f2839f25d086af736a60e9eeb907d3b93b6e0e5",
    "execution": {
     "iopub.execute_input": "2023-02-20T04:27:55.709532Z",
     "iopub.status.busy": "2023-02-20T04:27:55.708872Z",
     "iopub.status.idle": "2023-02-20T04:27:55.719041Z",
     "shell.execute_reply": "2023-02-20T04:27:55.718067Z"
    },
    "papermill": {
     "duration": 0.024455,
     "end_time": "2023-02-20T04:27:55.721349",
     "exception": false,
     "start_time": "2023-02-20T04:27:55.696894",
     "status": "completed"
    },
    "tags": []
   },
   "outputs": [],
   "source": [
    "import numpy as np # linear algebra\n",
    "import pandas as pd # data processing, CSV file I/O (e.g. pd.read_csv)"
   ]
  },
  {
   "cell_type": "markdown",
   "id": "36c8e0da",
   "metadata": {
    "papermill": {
     "duration": 0.006244,
     "end_time": "2023-02-20T04:27:55.734470",
     "exception": false,
     "start_time": "2023-02-20T04:27:55.728226",
     "status": "completed"
    },
    "tags": []
   },
   "source": [
    "# Bloom176-petals installation (model running not working)"
   ]
  },
  {
   "cell_type": "code",
   "execution_count": 2,
   "id": "c8d5d4c9",
   "metadata": {
    "execution": {
     "iopub.execute_input": "2023-02-20T04:27:55.750207Z",
     "iopub.status.busy": "2023-02-20T04:27:55.749442Z",
     "iopub.status.idle": "2023-02-20T04:27:55.753910Z",
     "shell.execute_reply": "2023-02-20T04:27:55.753082Z"
    },
    "papermill": {
     "duration": 0.014959,
     "end_time": "2023-02-20T04:27:55.756161",
     "exception": false,
     "start_time": "2023-02-20T04:27:55.741202",
     "status": "completed"
    },
    "tags": []
   },
   "outputs": [],
   "source": [
    "#!pip install git+https://github.com/bigscience-workshop/petals"
   ]
  },
  {
   "cell_type": "code",
   "execution_count": 3,
   "id": "b6d03f9e",
   "metadata": {
    "execution": {
     "iopub.execute_input": "2023-02-20T04:27:55.773241Z",
     "iopub.status.busy": "2023-02-20T04:27:55.771804Z",
     "iopub.status.idle": "2023-02-20T04:27:55.777566Z",
     "shell.execute_reply": "2023-02-20T04:27:55.776239Z"
    },
    "papermill": {
     "duration": 0.019709,
     "end_time": "2023-02-20T04:27:55.782739",
     "exception": false,
     "start_time": "2023-02-20T04:27:55.763030",
     "status": "completed"
    },
    "tags": []
   },
   "outputs": [],
   "source": [
    "# import torch\n",
    "# from transformers import BloomTokenizerFast \n",
    "# from petals import DistributedBloomForCausalLM"
   ]
  },
  {
   "cell_type": "markdown",
   "id": "0cf42a99",
   "metadata": {
    "papermill": {
     "duration": 0.006689,
     "end_time": "2023-02-20T04:27:55.796363",
     "exception": false,
     "start_time": "2023-02-20T04:27:55.789674",
     "status": "completed"
    },
    "tags": []
   },
   "source": [
    "# Bloom176-petals model creation"
   ]
  },
  {
   "cell_type": "code",
   "execution_count": 4,
   "id": "591395c8",
   "metadata": {
    "execution": {
     "iopub.execute_input": "2023-02-20T04:27:55.820104Z",
     "iopub.status.busy": "2023-02-20T04:27:55.819309Z",
     "iopub.status.idle": "2023-02-20T04:27:55.824713Z",
     "shell.execute_reply": "2023-02-20T04:27:55.823567Z"
    },
    "papermill": {
     "duration": 0.021292,
     "end_time": "2023-02-20T04:27:55.827198",
     "exception": false,
     "start_time": "2023-02-20T04:27:55.805906",
     "status": "completed"
    },
    "tags": []
   },
   "outputs": [],
   "source": [
    "# MODEL_NAME = \"bigscience/bloom-petals\"\n",
    "# tokenizer = BloomTokenizerFast.from_pretrained(MODEL_NAME)\n",
    "# model = DistributedBloomForCausalLM.from_pretrained(MODEL_NAME)"
   ]
  },
  {
   "cell_type": "code",
   "execution_count": 5,
   "id": "2b44524f",
   "metadata": {
    "execution": {
     "iopub.execute_input": "2023-02-20T04:27:55.851296Z",
     "iopub.status.busy": "2023-02-20T04:27:55.850321Z",
     "iopub.status.idle": "2023-02-20T04:27:55.855246Z",
     "shell.execute_reply": "2023-02-20T04:27:55.854237Z"
    },
    "papermill": {
     "duration": 0.018881,
     "end_time": "2023-02-20T04:27:55.857363",
     "exception": false,
     "start_time": "2023-02-20T04:27:55.838482",
     "status": "completed"
    },
    "tags": []
   },
   "outputs": [],
   "source": [
    "# inputs = tokenizer(\"\", return_tensors=\"pt\")[\"input_ids\"].cuda()\n",
    "# outputs = model.generate(inputs, max_new_tokens=5)"
   ]
  },
  {
   "cell_type": "code",
   "execution_count": 6,
   "id": "aba7686a",
   "metadata": {
    "execution": {
     "iopub.execute_input": "2023-02-20T04:27:55.873363Z",
     "iopub.status.busy": "2023-02-20T04:27:55.872697Z",
     "iopub.status.idle": "2023-02-20T04:27:55.877831Z",
     "shell.execute_reply": "2023-02-20T04:27:55.876695Z"
    },
    "papermill": {
     "duration": 0.015922,
     "end_time": "2023-02-20T04:27:55.880227",
     "exception": false,
     "start_time": "2023-02-20T04:27:55.864305",
     "status": "completed"
    },
    "tags": []
   },
   "outputs": [],
   "source": [
    "# print(tokenizer.decode(outputs[0]))"
   ]
  },
  {
   "cell_type": "markdown",
   "id": "ed58e257",
   "metadata": {
    "papermill": {
     "duration": 0.006574,
     "end_time": "2023-02-20T04:27:55.894192",
     "exception": false,
     "start_time": "2023-02-20T04:27:55.887618",
     "status": "completed"
    },
    "tags": []
   },
   "source": [
    "# Dataset installation\n",
    "\n",
    "I uploaded this dataset to kaggle, so we can use it immediatelly. We will use pandas to convert jsonl files to the dataset, since the dataset is rather small."
   ]
  },
  {
   "cell_type": "code",
   "execution_count": 7,
   "id": "20a328ec",
   "metadata": {
    "execution": {
     "iopub.execute_input": "2023-02-20T04:27:55.909796Z",
     "iopub.status.busy": "2023-02-20T04:27:55.909352Z",
     "iopub.status.idle": "2023-02-20T04:27:55.973569Z",
     "shell.execute_reply": "2023-02-20T04:27:55.972610Z"
    },
    "papermill": {
     "duration": 0.075304,
     "end_time": "2023-02-20T04:27:55.976245",
     "exception": false,
     "start_time": "2023-02-20T04:27:55.900941",
     "status": "completed"
    },
    "tags": []
   },
   "outputs": [],
   "source": [
    "import pandas as pd\n",
    "\n",
    "#train = pd.read_json(path_or_buf=\"/kaggle/input/gsm8k-dataset/train.jsonl\", lines=True)\n",
    "test = pd.read_json(path_or_buf=\"/kaggle/input/gsm8k-dataset/test.jsonl\", lines=True)"
   ]
  },
  {
   "cell_type": "markdown",
   "id": "72ffde15",
   "metadata": {
    "papermill": {
     "duration": 0.006951,
     "end_time": "2023-02-20T04:27:55.991180",
     "exception": false,
     "start_time": "2023-02-20T04:27:55.984229",
     "status": "completed"
    },
    "tags": []
   },
   "source": [
    "As we can see, there are 1319 questions in the test without any additional annotations. And there are also answers, where sometimes there are calculator annotations starting and ending with << >>. The numeric answer is in the end after ####."
   ]
  },
  {
   "cell_type": "code",
   "execution_count": 8,
   "id": "e6283e09",
   "metadata": {
    "execution": {
     "iopub.execute_input": "2023-02-20T04:27:56.006429Z",
     "iopub.status.busy": "2023-02-20T04:27:56.006010Z",
     "iopub.status.idle": "2023-02-20T04:27:56.025755Z",
     "shell.execute_reply": "2023-02-20T04:27:56.024633Z"
    },
    "papermill": {
     "duration": 0.031274,
     "end_time": "2023-02-20T04:27:56.029298",
     "exception": false,
     "start_time": "2023-02-20T04:27:55.998024",
     "status": "completed"
    },
    "tags": []
   },
   "outputs": [
    {
     "data": {
      "text/html": [
       "<div>\n",
       "<style scoped>\n",
       "    .dataframe tbody tr th:only-of-type {\n",
       "        vertical-align: middle;\n",
       "    }\n",
       "\n",
       "    .dataframe tbody tr th {\n",
       "        vertical-align: top;\n",
       "    }\n",
       "\n",
       "    .dataframe thead th {\n",
       "        text-align: right;\n",
       "    }\n",
       "</style>\n",
       "<table border=\"1\" class=\"dataframe\">\n",
       "  <thead>\n",
       "    <tr style=\"text-align: right;\">\n",
       "      <th></th>\n",
       "      <th>question</th>\n",
       "      <th>answer</th>\n",
       "    </tr>\n",
       "  </thead>\n",
       "  <tbody>\n",
       "    <tr>\n",
       "      <th>0</th>\n",
       "      <td>Janet’s ducks lay 16 eggs per day. She eats th...</td>\n",
       "      <td>Janet sells 16 - 3 - 4 = &lt;&lt;16-3-4=9&gt;&gt;9 duck eg...</td>\n",
       "    </tr>\n",
       "    <tr>\n",
       "      <th>1</th>\n",
       "      <td>A robe takes 2 bolts of blue fiber and half th...</td>\n",
       "      <td>It takes 2/2=&lt;&lt;2/2=1&gt;&gt;1 bolt of white fiber\\nS...</td>\n",
       "    </tr>\n",
       "    <tr>\n",
       "      <th>2</th>\n",
       "      <td>Josh decides to try flipping a house.  He buys...</td>\n",
       "      <td>The cost of the house and repairs came out to ...</td>\n",
       "    </tr>\n",
       "    <tr>\n",
       "      <th>3</th>\n",
       "      <td>James decides to run 3 sprints 3 times a week....</td>\n",
       "      <td>He sprints 3*3=&lt;&lt;3*3=9&gt;&gt;9 times\\nSo he runs 9*...</td>\n",
       "    </tr>\n",
       "    <tr>\n",
       "      <th>4</th>\n",
       "      <td>Every day, Wendi feeds each of her chickens th...</td>\n",
       "      <td>If each chicken eats 3 cups of feed per day, t...</td>\n",
       "    </tr>\n",
       "    <tr>\n",
       "      <th>...</th>\n",
       "      <td>...</td>\n",
       "      <td>...</td>\n",
       "    </tr>\n",
       "    <tr>\n",
       "      <th>1314</th>\n",
       "      <td>John had a son James when he was 19.  James is...</td>\n",
       "      <td>Dora is 12-3=&lt;&lt;12-3=9&gt;&gt;9\\nSo James is 9*2=&lt;&lt;9*...</td>\n",
       "    </tr>\n",
       "    <tr>\n",
       "      <th>1315</th>\n",
       "      <td>There are some oranges in a basket. Ana spends...</td>\n",
       "      <td>There are 60 minutes in an hour. Ana peels an ...</td>\n",
       "    </tr>\n",
       "    <tr>\n",
       "      <th>1316</th>\n",
       "      <td>Mark's car breaks down and he needs to get a n...</td>\n",
       "      <td>The discount on the radiator was 400*.8=$&lt;&lt;400...</td>\n",
       "    </tr>\n",
       "    <tr>\n",
       "      <th>1317</th>\n",
       "      <td>Farmer Brown has 20 animals on his farm, all e...</td>\n",
       "      <td>Let C be the number of chickens.\\nThere are 20...</td>\n",
       "    </tr>\n",
       "    <tr>\n",
       "      <th>1318</th>\n",
       "      <td>Henry and 3 of his friends order 7 pizzas for ...</td>\n",
       "      <td>There are 7*8=&lt;&lt;7*8=56&gt;&gt;56 slices in total.\\nT...</td>\n",
       "    </tr>\n",
       "  </tbody>\n",
       "</table>\n",
       "<p>1319 rows × 2 columns</p>\n",
       "</div>"
      ],
      "text/plain": [
       "                                               question  \\\n",
       "0     Janet’s ducks lay 16 eggs per day. She eats th...   \n",
       "1     A robe takes 2 bolts of blue fiber and half th...   \n",
       "2     Josh decides to try flipping a house.  He buys...   \n",
       "3     James decides to run 3 sprints 3 times a week....   \n",
       "4     Every day, Wendi feeds each of her chickens th...   \n",
       "...                                                 ...   \n",
       "1314  John had a son James when he was 19.  James is...   \n",
       "1315  There are some oranges in a basket. Ana spends...   \n",
       "1316  Mark's car breaks down and he needs to get a n...   \n",
       "1317  Farmer Brown has 20 animals on his farm, all e...   \n",
       "1318  Henry and 3 of his friends order 7 pizzas for ...   \n",
       "\n",
       "                                                 answer  \n",
       "0     Janet sells 16 - 3 - 4 = <<16-3-4=9>>9 duck eg...  \n",
       "1     It takes 2/2=<<2/2=1>>1 bolt of white fiber\\nS...  \n",
       "2     The cost of the house and repairs came out to ...  \n",
       "3     He sprints 3*3=<<3*3=9>>9 times\\nSo he runs 9*...  \n",
       "4     If each chicken eats 3 cups of feed per day, t...  \n",
       "...                                                 ...  \n",
       "1314  Dora is 12-3=<<12-3=9>>9\\nSo James is 9*2=<<9*...  \n",
       "1315  There are 60 minutes in an hour. Ana peels an ...  \n",
       "1316  The discount on the radiator was 400*.8=$<<400...  \n",
       "1317  Let C be the number of chickens.\\nThere are 20...  \n",
       "1318  There are 7*8=<<7*8=56>>56 slices in total.\\nT...  \n",
       "\n",
       "[1319 rows x 2 columns]"
      ]
     },
     "execution_count": 8,
     "metadata": {},
     "output_type": "execute_result"
    }
   ],
   "source": [
    "test"
   ]
  },
  {
   "cell_type": "markdown",
   "id": "3d6cf141",
   "metadata": {
    "papermill": {
     "duration": 0.00672,
     "end_time": "2023-02-20T04:27:56.043247",
     "exception": false,
     "start_time": "2023-02-20T04:27:56.036527",
     "status": "completed"
    },
    "tags": []
   },
   "source": [
    "Simple preprocessing to extract all the answers from the test"
   ]
  },
  {
   "cell_type": "code",
   "execution_count": 9,
   "id": "79a65ed9",
   "metadata": {
    "execution": {
     "iopub.execute_input": "2023-02-20T04:27:56.060090Z",
     "iopub.status.busy": "2023-02-20T04:27:56.059272Z",
     "iopub.status.idle": "2023-02-20T04:27:56.089560Z",
     "shell.execute_reply": "2023-02-20T04:27:56.088071Z"
    },
    "papermill": {
     "duration": 0.042038,
     "end_time": "2023-02-20T04:27:56.092790",
     "exception": false,
     "start_time": "2023-02-20T04:27:56.050752",
     "status": "completed"
    },
    "tags": []
   },
   "outputs": [],
   "source": [
    "def get_num_answer_test(text):\n",
    "    return text.split()[-1]\n",
    "\n",
    "test[\"numeric_answer\"] = test.apply(lambda x: get_num_answer_test(x[\"answer\"]), axis=1)"
   ]
  },
  {
   "cell_type": "code",
   "execution_count": 10,
   "id": "207d1ef4",
   "metadata": {
    "execution": {
     "iopub.execute_input": "2023-02-20T04:27:56.109117Z",
     "iopub.status.busy": "2023-02-20T04:27:56.108687Z",
     "iopub.status.idle": "2023-02-20T04:27:56.122792Z",
     "shell.execute_reply": "2023-02-20T04:27:56.121320Z"
    },
    "papermill": {
     "duration": 0.025005,
     "end_time": "2023-02-20T04:27:56.125129",
     "exception": false,
     "start_time": "2023-02-20T04:27:56.100124",
     "status": "completed"
    },
    "tags": []
   },
   "outputs": [
    {
     "data": {
      "text/html": [
       "<div>\n",
       "<style scoped>\n",
       "    .dataframe tbody tr th:only-of-type {\n",
       "        vertical-align: middle;\n",
       "    }\n",
       "\n",
       "    .dataframe tbody tr th {\n",
       "        vertical-align: top;\n",
       "    }\n",
       "\n",
       "    .dataframe thead th {\n",
       "        text-align: right;\n",
       "    }\n",
       "</style>\n",
       "<table border=\"1\" class=\"dataframe\">\n",
       "  <thead>\n",
       "    <tr style=\"text-align: right;\">\n",
       "      <th></th>\n",
       "      <th>question</th>\n",
       "      <th>answer</th>\n",
       "      <th>numeric_answer</th>\n",
       "    </tr>\n",
       "  </thead>\n",
       "  <tbody>\n",
       "    <tr>\n",
       "      <th>0</th>\n",
       "      <td>Janet’s ducks lay 16 eggs per day. She eats th...</td>\n",
       "      <td>Janet sells 16 - 3 - 4 = &lt;&lt;16-3-4=9&gt;&gt;9 duck eg...</td>\n",
       "      <td>18</td>\n",
       "    </tr>\n",
       "    <tr>\n",
       "      <th>1</th>\n",
       "      <td>A robe takes 2 bolts of blue fiber and half th...</td>\n",
       "      <td>It takes 2/2=&lt;&lt;2/2=1&gt;&gt;1 bolt of white fiber\\nS...</td>\n",
       "      <td>3</td>\n",
       "    </tr>\n",
       "    <tr>\n",
       "      <th>2</th>\n",
       "      <td>Josh decides to try flipping a house.  He buys...</td>\n",
       "      <td>The cost of the house and repairs came out to ...</td>\n",
       "      <td>70000</td>\n",
       "    </tr>\n",
       "    <tr>\n",
       "      <th>3</th>\n",
       "      <td>James decides to run 3 sprints 3 times a week....</td>\n",
       "      <td>He sprints 3*3=&lt;&lt;3*3=9&gt;&gt;9 times\\nSo he runs 9*...</td>\n",
       "      <td>540</td>\n",
       "    </tr>\n",
       "    <tr>\n",
       "      <th>4</th>\n",
       "      <td>Every day, Wendi feeds each of her chickens th...</td>\n",
       "      <td>If each chicken eats 3 cups of feed per day, t...</td>\n",
       "      <td>20</td>\n",
       "    </tr>\n",
       "    <tr>\n",
       "      <th>...</th>\n",
       "      <td>...</td>\n",
       "      <td>...</td>\n",
       "      <td>...</td>\n",
       "    </tr>\n",
       "    <tr>\n",
       "      <th>1314</th>\n",
       "      <td>John had a son James when he was 19.  James is...</td>\n",
       "      <td>Dora is 12-3=&lt;&lt;12-3=9&gt;&gt;9\\nSo James is 9*2=&lt;&lt;9*...</td>\n",
       "      <td>8</td>\n",
       "    </tr>\n",
       "    <tr>\n",
       "      <th>1315</th>\n",
       "      <td>There are some oranges in a basket. Ana spends...</td>\n",
       "      <td>There are 60 minutes in an hour. Ana peels an ...</td>\n",
       "      <td>5</td>\n",
       "    </tr>\n",
       "    <tr>\n",
       "      <th>1316</th>\n",
       "      <td>Mark's car breaks down and he needs to get a n...</td>\n",
       "      <td>The discount on the radiator was 400*.8=$&lt;&lt;400...</td>\n",
       "      <td>230</td>\n",
       "    </tr>\n",
       "    <tr>\n",
       "      <th>1317</th>\n",
       "      <td>Farmer Brown has 20 animals on his farm, all e...</td>\n",
       "      <td>Let C be the number of chickens.\\nThere are 20...</td>\n",
       "      <td>5</td>\n",
       "    </tr>\n",
       "    <tr>\n",
       "      <th>1318</th>\n",
       "      <td>Henry and 3 of his friends order 7 pizzas for ...</td>\n",
       "      <td>There are 7*8=&lt;&lt;7*8=56&gt;&gt;56 slices in total.\\nT...</td>\n",
       "      <td>14</td>\n",
       "    </tr>\n",
       "  </tbody>\n",
       "</table>\n",
       "<p>1319 rows × 3 columns</p>\n",
       "</div>"
      ],
      "text/plain": [
       "                                               question  \\\n",
       "0     Janet’s ducks lay 16 eggs per day. She eats th...   \n",
       "1     A robe takes 2 bolts of blue fiber and half th...   \n",
       "2     Josh decides to try flipping a house.  He buys...   \n",
       "3     James decides to run 3 sprints 3 times a week....   \n",
       "4     Every day, Wendi feeds each of her chickens th...   \n",
       "...                                                 ...   \n",
       "1314  John had a son James when he was 19.  James is...   \n",
       "1315  There are some oranges in a basket. Ana spends...   \n",
       "1316  Mark's car breaks down and he needs to get a n...   \n",
       "1317  Farmer Brown has 20 animals on his farm, all e...   \n",
       "1318  Henry and 3 of his friends order 7 pizzas for ...   \n",
       "\n",
       "                                                 answer numeric_answer  \n",
       "0     Janet sells 16 - 3 - 4 = <<16-3-4=9>>9 duck eg...             18  \n",
       "1     It takes 2/2=<<2/2=1>>1 bolt of white fiber\\nS...              3  \n",
       "2     The cost of the house and repairs came out to ...          70000  \n",
       "3     He sprints 3*3=<<3*3=9>>9 times\\nSo he runs 9*...            540  \n",
       "4     If each chicken eats 3 cups of feed per day, t...             20  \n",
       "...                                                 ...            ...  \n",
       "1314  Dora is 12-3=<<12-3=9>>9\\nSo James is 9*2=<<9*...              8  \n",
       "1315  There are 60 minutes in an hour. Ana peels an ...              5  \n",
       "1316  The discount on the radiator was 400*.8=$<<400...            230  \n",
       "1317  Let C be the number of chickens.\\nThere are 20...              5  \n",
       "1318  There are 7*8=<<7*8=56>>56 slices in total.\\nT...             14  \n",
       "\n",
       "[1319 rows x 3 columns]"
      ]
     },
     "execution_count": 10,
     "metadata": {},
     "output_type": "execute_result"
    }
   ],
   "source": [
    "test"
   ]
  },
  {
   "cell_type": "markdown",
   "id": "20f3c443",
   "metadata": {
    "papermill": {
     "duration": 0.00699,
     "end_time": "2023-02-20T04:27:56.139648",
     "exception": false,
     "start_time": "2023-02-20T04:27:56.132658",
     "status": "completed"
    },
    "tags": []
   },
   "source": [
    "# Creating hypothesis"
   ]
  },
  {
   "cell_type": "markdown",
   "id": "937f678f",
   "metadata": {
    "papermill": {
     "duration": 0.00695,
     "end_time": "2023-02-20T04:27:56.153849",
     "exception": false,
     "start_time": "2023-02-20T04:27:56.146899",
     "status": "completed"
    },
    "tags": []
   },
   "source": [
    "There are many options how to test CoT samples. We can change the number of examplars, the order of them and just the examplars. All these params can impact on the performance. It's hard to do all the tests due to computational limitations. It's known, that the number of examplars do not significantly increases the score. However, annotators quality can be important. For simplification let's fix the order and the number of examplars. For example, we take 4 of them. However, I suggest to create 2 versions (to imitate annotators."
   ]
  },
  {
   "cell_type": "markdown",
   "id": "40fe3d7b",
   "metadata": {
    "papermill": {
     "duration": 0.006881,
     "end_time": "2023-02-20T04:27:56.168234",
     "exception": false,
     "start_time": "2023-02-20T04:27:56.161353",
     "status": "completed"
    },
    "tags": []
   },
   "source": [
    "Required methods that we are going to test:\n",
    "\n",
    "1. CoT (4 examplars, fixed order, 2 versions)\n",
    "2. CoT ensemble (4 examplars, same order as in the 1 item, 2 versions): do top-k (40) sampling to get several answers, then do the majority vote.\n",
    "\n",
    "In the 2 item I also suggest to take recommended params from the paper, since there are too many options to try otherwise, moreoever, authors wrote that models performance is quite robust to hyperparams changes."
   ]
  },
  {
   "cell_type": "markdown",
   "id": "56af2df1",
   "metadata": {
    "papermill": {
     "duration": 0.007053,
     "end_time": "2023-02-20T04:27:56.182575",
     "exception": false,
     "start_time": "2023-02-20T04:27:56.175522",
     "status": "completed"
    },
    "tags": []
   },
   "source": [
    "Bonus methods that are interesting (for me) to try:\n",
    "\n",
    "3. CoT: 1 question, several correct reasoning paths with correct answers. Then do majority vote on them. Prompt example:\n",
    "\n",
    "```\n",
    "Q: Janet’s ducks lay 16 eggs per day. She eats three for breakfast every morning and bakes muffins for her friends every day with four. She sells the remainder for $2 per egg. How much does she make every day? \n",
    "A: She has 16 - 3 - 4 = 9 eggs left. So she makes $2 * 9 = $18 per day. The answer is $18.\n",
    "A: She eats 3 for breakfast, so she has 16 - 3 = 13 left. Then she bakes muffins, so she has 13 - 4 = 9 eggs left. So she has 9 eggs * $2 = $18. The answer is $18.\n",
    "A: This means she uses 3 + 4 = 7 eggs every day. So in total she sells 16 - 7 = 9 eggs. She sells the remainder for $2 per egg, so she makes 9 * $2 = $18 per day. The answer is $18.\n",
    "\n",
    "\n",
    "Q: If there are 3 cars in the parking lot and 2 more cars arrive, how many cars are in the parking lot?\n",
    "```\n",
    "\n",
    "4. CoT with directing phrases. Prompt example:\n",
    "\n",
    "```\n",
    "Use mathemathical operations and write step by step the explanation of the following math problem solution:\n",
    "Q: Janet’s ducks lay 16 eggs per day. She eats three for breakfast every morning and bakes muffins for her friends every day with four. She sells the remainder for $2 per egg. How much does she make every day?\n",
    "\n",
    "Here is the solution explanation:\n",
    "A: She has 16 - 3 - 4 = 9 eggs left. So she makes $2 * 9 = $18 per day. The answer is $18.\n",
    "\n",
    "Use mathemathical operations and write step by step the explanation of the following math problem solution:\n",
    "Q: If there are 3 cars in the parking lot and 2 more cars arrive, how many cars are in the parking lot?\n",
    "\n",
    "Here is the solution explanation:\n",
    "```\n"
   ]
  },
  {
   "cell_type": "markdown",
   "id": "f5687813",
   "metadata": {
    "papermill": {
     "duration": 0.007006,
     "end_time": "2023-02-20T04:27:56.196874",
     "exception": false,
     "start_time": "2023-02-20T04:27:56.189868",
     "status": "completed"
    },
    "tags": []
   },
   "source": [
    "# Creating prompts for the dataset"
   ]
  },
  {
   "cell_type": "code",
   "execution_count": 11,
   "id": "4605acca",
   "metadata": {
    "execution": {
     "iopub.execute_input": "2023-02-20T04:27:56.213440Z",
     "iopub.status.busy": "2023-02-20T04:27:56.212942Z",
     "iopub.status.idle": "2023-02-20T04:27:56.219985Z",
     "shell.execute_reply": "2023-02-20T04:27:56.218773Z"
    },
    "papermill": {
     "duration": 0.017991,
     "end_time": "2023-02-20T04:27:56.222213",
     "exception": false,
     "start_time": "2023-02-20T04:27:56.204222",
     "status": "completed"
    },
    "tags": []
   },
   "outputs": [],
   "source": [
    "def get_prompt_cot_anot1(text):\n",
    "    '''\n",
    "    Method for the first hypothesis and the first set of tasks (annotator)\n",
    "    '''\n",
    "    \n",
    "    # Fixing prompt examplars\n",
    "    temp = (\"Q: There are 15 trees in the grove. Grove workers will plant trees in the grove today. After they are done, there will be 21 trees. How many trees did the grove workers plant today?\\n\"\n",
    "            \"A: There are 15 trees originally. Then there were 21 trees after some more were planted. So there must have been 21 - 15 = 6. The answer is 6.\\n\"\n",
    "            \"Q: If there are 3 cars in the parking lot and 2 more cars arrive, how many cars are in the parking lot?\\n\"\n",
    "            \"A: There are originally 3 cars. 2 more cars arrive. 3 + 2 = 5. The answer is 5.\\n\"\n",
    "            \"Q: Leah had 32 chocolates and her sister had 42. If they ate 35, how many pieces do they have left in total?\\n\"\n",
    "            \"A: Originally, Leah had 32 chocolates. Her sister had 42. So in total they had 32 + 42 = 74. After eating 35, they had 74 - 35 = 39. The answer is 39.\\n\"\n",
    "            \"Q: Jason had 20 lollipops. He gave Denny some lollipops. Now Jason has 12 lollipops. How many lollipops did Jason give to Denny?\\n\"\n",
    "            \"A: Jason started with 20 lollipops. Then he had 12 after giving some to Denny. So he gave Denny 20 - 12 = 8. The answer is 8.\\n\"\n",
    "            \"Q: \"\n",
    "           )\n",
    "    return temp + text"
   ]
  },
  {
   "cell_type": "code",
   "execution_count": 12,
   "id": "e1518d69",
   "metadata": {
    "execution": {
     "iopub.execute_input": "2023-02-20T04:27:56.238820Z",
     "iopub.status.busy": "2023-02-20T04:27:56.238412Z",
     "iopub.status.idle": "2023-02-20T04:27:56.245008Z",
     "shell.execute_reply": "2023-02-20T04:27:56.243818Z"
    },
    "papermill": {
     "duration": 0.017649,
     "end_time": "2023-02-20T04:27:56.247329",
     "exception": false,
     "start_time": "2023-02-20T04:27:56.229680",
     "status": "completed"
    },
    "tags": []
   },
   "outputs": [],
   "source": [
    "def get_prompt_cot_anot2(text):\n",
    "    '''\n",
    "    Method for the first hypothesis and the second set of tasks (annotator)\n",
    "    '''\n",
    "    \n",
    "    # Fixing prompt examplars\n",
    "    temp = (\"Q: Shawn has five toys. For Christmas, he got two toys each from his mom and dad. How many toys does he have now?\\n\"\n",
    "            \"A: He has 5 toys. He got 2 from mom, so after that he has 5 + 2 = 7 toys. Then he got 2 more from dad, so in total he has 7 + 2 = 9 toys. The answer is 9.\\n\"\n",
    "            \"Q: There were nine computers in the server room. Five more computers were installed each day, from monday to thursday. How many computers are now in the server room?\\n\"\n",
    "            \"A: There are 4 days from monday to thursday. 5 computers were added each day. That means in total 4 * 5 = 20 computers were added. There were 9 computers in the beginning, so now there are 9 + 20 = 29 computers. The answer is 29.\\n\"\n",
    "            \"Q: Michael had 58 golf balls. On tuesday, he lost 23 golf balls. On wednesday, he lost 2 more. How many golf balls did he have at the end of wednesday?\\n\"\n",
    "            \"A: Michael initially had 58 balls. He lost 23 on Tuesday, so after that he has 58 - 23 = 35 balls. On Wednesday he lost 2 more so now he has 35 - 2 = 33 balls. The answer is 33.\\n\"\n",
    "            \"Q: Olivia has $23. She bought five bagels for $3 each. How much money does she have left?\\n\"\n",
    "            \"A: She bought 5 bagels for $3 each. This means she spent 5 * $3 = $15 on the bagels. She had $23 in beginning, so now she has $23 - $15 = $8. The answer is 8.\\n\"\n",
    "            \"Q: \"\n",
    "           )\n",
    "    return temp + text"
   ]
  },
  {
   "cell_type": "code",
   "execution_count": 13,
   "id": "0c974ce0",
   "metadata": {
    "execution": {
     "iopub.execute_input": "2023-02-20T04:27:56.263887Z",
     "iopub.status.busy": "2023-02-20T04:27:56.263469Z",
     "iopub.status.idle": "2023-02-20T04:27:56.269722Z",
     "shell.execute_reply": "2023-02-20T04:27:56.268647Z"
    },
    "papermill": {
     "duration": 0.01754,
     "end_time": "2023-02-20T04:27:56.272273",
     "exception": false,
     "start_time": "2023-02-20T04:27:56.254733",
     "status": "completed"
    },
    "tags": []
   },
   "outputs": [],
   "source": [
    "def get_prompt_cot_many_paths(text):\n",
    "    '''\n",
    "    Method for the 3rd hypothesis with several reasonings\n",
    "    '''\n",
    "    \n",
    "    temp = (\"Q: Betty is saving money for a new wallet which costs $100. Betty has only half of the money she needs. Her parents decided to give her $15 for that purpose, and her grandparents twice as much as her parents. How much more money does Betty need to buy the wallet?\\n\"\n",
    "            \"A: In the beginning, Betty has only $100 / 2 = $50. Betty's grandparents gave her $15 * 2 = $30. This means, Betty needs 100 - 50 - 30 - 15 = $5 more. The answer is 5.\\n\"\n",
    "            \"A: She had only half of the money she needs, that is, she needs $100 / 2 = $50. Her parents gave her $15. Grandparents gave her $15 * 2 = $30. This means, Betty needs 100 - 50 - 15 - 30 = $5 more. The answer is 5.\\n\"\n",
    "            \"A: Betty had only half of the wallet cost, she had $100 / 2 = $50. Then grandparents gave her twice much as parents did, $15 * 2 = $30. Betty has 50 + 30 + 15 = $95. Wallet costs 100. She needs 100 - 95 = $5 more. The answer is 5.\\n\"\n",
    "            \"\\n\"\n",
    "            \"Q: \"\n",
    "           )\n",
    "    return temp + text"
   ]
  },
  {
   "cell_type": "code",
   "execution_count": 14,
   "id": "8d820d4b",
   "metadata": {
    "execution": {
     "iopub.execute_input": "2023-02-20T04:27:56.289001Z",
     "iopub.status.busy": "2023-02-20T04:27:56.288588Z",
     "iopub.status.idle": "2023-02-20T04:27:56.294804Z",
     "shell.execute_reply": "2023-02-20T04:27:56.293691Z"
    },
    "papermill": {
     "duration": 0.01734,
     "end_time": "2023-02-20T04:27:56.297176",
     "exception": false,
     "start_time": "2023-02-20T04:27:56.279836",
     "status": "completed"
    },
    "tags": []
   },
   "outputs": [],
   "source": [
    "def get_prompt_cot_directions(text):\n",
    "    '''\n",
    "    Method for the 4th hypothesis with directions\n",
    "    '''\n",
    "    \n",
    "    temp = (\"Use mathemathical operations and write step by step the explanation of the following math problem solution:\\n\"\n",
    "            \"Q: Michael had 58 golf balls. On tuesday, he lost 23 golf balls. On wednesday, he lost 2 more. How many golf balls did he have at the end of wednesday?\\n\"\n",
    "            \"A: Michael initially had 58 balls. He lost 23 on Tuesday, so after that he has 58 - 23 = 35 balls. On Wednesday he lost 2 more so now he has 35 - 2 = 33 balls. The answer is 33.\\n\"\n",
    "            \"Use mathemathical operations and write step by step the explanation of the following math problem solution:\\n\"\n",
    "            \"Q: \"\n",
    "           )\n",
    "    return temp + text + \"\\nHere is the solution explanation:\""
   ]
  },
  {
   "cell_type": "code",
   "execution_count": 15,
   "id": "9f740105",
   "metadata": {
    "execution": {
     "iopub.execute_input": "2023-02-20T04:27:56.314547Z",
     "iopub.status.busy": "2023-02-20T04:27:56.313722Z",
     "iopub.status.idle": "2023-02-20T04:27:56.337047Z",
     "shell.execute_reply": "2023-02-20T04:27:56.335844Z"
    },
    "papermill": {
     "duration": 0.035077,
     "end_time": "2023-02-20T04:27:56.339712",
     "exception": false,
     "start_time": "2023-02-20T04:27:56.304635",
     "status": "completed"
    },
    "tags": []
   },
   "outputs": [],
   "source": [
    "test[\"CoT_anot1\"] = test.apply(lambda x: get_prompt_cot_anot1(x[\"question\"]), axis=1)"
   ]
  },
  {
   "cell_type": "code",
   "execution_count": 16,
   "id": "d128526b",
   "metadata": {
    "execution": {
     "iopub.execute_input": "2023-02-20T04:27:56.357783Z",
     "iopub.status.busy": "2023-02-20T04:27:56.356816Z",
     "iopub.status.idle": "2023-02-20T04:27:56.380076Z",
     "shell.execute_reply": "2023-02-20T04:27:56.378510Z"
    },
    "papermill": {
     "duration": 0.035026,
     "end_time": "2023-02-20T04:27:56.382798",
     "exception": false,
     "start_time": "2023-02-20T04:27:56.347772",
     "status": "completed"
    },
    "tags": []
   },
   "outputs": [],
   "source": [
    "test[\"CoT_anot2\"] = test.apply(lambda x: get_prompt_cot_anot2(x[\"question\"]), axis=1)"
   ]
  },
  {
   "cell_type": "code",
   "execution_count": 17,
   "id": "b43001e0",
   "metadata": {
    "execution": {
     "iopub.execute_input": "2023-02-20T04:27:56.399528Z",
     "iopub.status.busy": "2023-02-20T04:27:56.399068Z",
     "iopub.status.idle": "2023-02-20T04:27:56.423447Z",
     "shell.execute_reply": "2023-02-20T04:27:56.422213Z"
    },
    "papermill": {
     "duration": 0.035886,
     "end_time": "2023-02-20T04:27:56.426234",
     "exception": false,
     "start_time": "2023-02-20T04:27:56.390348",
     "status": "completed"
    },
    "tags": []
   },
   "outputs": [],
   "source": [
    "test[\"CoT_paths\"] = test.apply(lambda x: get_prompt_cot_many_paths(x[\"question\"]), axis=1)"
   ]
  },
  {
   "cell_type": "code",
   "execution_count": 18,
   "id": "0a5092be",
   "metadata": {
    "execution": {
     "iopub.execute_input": "2023-02-20T04:27:56.443604Z",
     "iopub.status.busy": "2023-02-20T04:27:56.443169Z",
     "iopub.status.idle": "2023-02-20T04:27:56.470193Z",
     "shell.execute_reply": "2023-02-20T04:27:56.469134Z"
    },
    "papermill": {
     "duration": 0.038613,
     "end_time": "2023-02-20T04:27:56.472872",
     "exception": false,
     "start_time": "2023-02-20T04:27:56.434259",
     "status": "completed"
    },
    "tags": []
   },
   "outputs": [],
   "source": [
    "test[\"CoT_directions\"] = test.apply(lambda x: get_prompt_cot_directions(x[\"question\"]), axis=1)"
   ]
  },
  {
   "cell_type": "code",
   "execution_count": 19,
   "id": "0c8f475b",
   "metadata": {
    "execution": {
     "iopub.execute_input": "2023-02-20T04:27:56.492039Z",
     "iopub.status.busy": "2023-02-20T04:27:56.489644Z",
     "iopub.status.idle": "2023-02-20T04:27:56.638377Z",
     "shell.execute_reply": "2023-02-20T04:27:56.637369Z"
    },
    "papermill": {
     "duration": 0.160151,
     "end_time": "2023-02-20T04:27:56.640922",
     "exception": false,
     "start_time": "2023-02-20T04:27:56.480771",
     "status": "completed"
    },
    "tags": []
   },
   "outputs": [],
   "source": [
    "test.to_csv(\"test_prompts.csv\", index=False)"
   ]
  }
 ],
 "metadata": {
  "kernelspec": {
   "display_name": "Python 3",
   "language": "python",
   "name": "python3"
  },
  "language_info": {
   "codemirror_mode": {
    "name": "ipython",
    "version": 3
   },
   "file_extension": ".py",
   "mimetype": "text/x-python",
   "name": "python",
   "nbconvert_exporter": "python",
   "pygments_lexer": "ipython3",
   "version": "3.7.12"
  },
  "papermill": {
   "default_parameters": {},
   "duration": 10.522946,
   "end_time": "2023-02-20T04:27:57.371612",
   "environment_variables": {},
   "exception": null,
   "input_path": "__notebook__.ipynb",
   "output_path": "__notebook__.ipynb",
   "parameters": {},
   "start_time": "2023-02-20T04:27:46.848666",
   "version": "2.3.4"
  }
 },
 "nbformat": 4,
 "nbformat_minor": 5
}
